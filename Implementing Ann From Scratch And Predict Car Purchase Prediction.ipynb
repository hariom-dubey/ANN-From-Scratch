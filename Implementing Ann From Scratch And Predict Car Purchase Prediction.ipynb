{
 "cells": [
  {
   "cell_type": "code",
   "execution_count": 1,
   "metadata": {},
   "outputs": [],
   "source": [
    "import numpy as np\n",
    "import random\n",
    "import pandas as pd\n",
    "from sklearn.preprocessing import StandardScaler\n",
    "from sklearn.model_selection import train_test_split\n",
    "from sklearn.metrics import confusion_matrix, accuracy_score"
   ]
  },
  {
   "cell_type": "code",
   "execution_count": 2,
   "metadata": {},
   "outputs": [],
   "source": [
    "#loading data\n",
    "df = pd.read_csv('LOR.csv', usecols = ['Age', 'EstimatedSalary', 'Purchased'])\n",
    "\n",
    "x = df.iloc[:,0:2].values\n",
    "y = df['Purchased'].values"
   ]
  },
  {
   "cell_type": "code",
   "execution_count": 3,
   "metadata": {},
   "outputs": [],
   "source": [
    "#splitting data into train and test\n",
    "train_x, test_x, train_y, test_y = train_test_split(x, y, test_size = 0.20, random_state = 0)"
   ]
  },
  {
   "cell_type": "code",
   "execution_count": 4,
   "metadata": {},
   "outputs": [],
   "source": [
    "#scaling data into some short range to make calculations easier\n",
    "sc = StandardScaler()\n",
    "train_x = sc.fit_transform(train_x)\n",
    "test_x = sc.fit_transform(test_x)"
   ]
  },
  {
   "cell_type": "code",
   "execution_count": 5,
   "metadata": {},
   "outputs": [],
   "source": [
    "#initializing weights\n",
    "w10, w11, w12, w13, w14, w15, w16, w17, w18, w20, w21, w22, w23 = [2 * random.random() - 1 for i in range(13)]\n",
    "\n",
    "#initializing bias\n",
    "x0 = 1\n",
    "a10 = 1\n",
    "\n",
    "# initializing learning rate\n",
    "l = 0.05\n",
    "\n",
    "#length of data\n",
    "n = len(train_x)"
   ]
  },
  {
   "cell_type": "code",
   "execution_count": 6,
   "metadata": {},
   "outputs": [],
   "source": [
    "#weights 1st layer\n",
    "weights_1 = np.array([[w10, w11, w12],\n",
    "               [w13, w14, w15],\n",
    "               [w16, w17, w18]])\n",
    "\n",
    "def sigmoid(val):\n",
    "    return np.exp(val)/(1 + np.exp(val))\n",
    "\n",
    "def sigmoid_derivative(val):\n",
    "    outcome = sigmoid(val) * (1 - sigmoid(val))\n",
    "    return outcome\n",
    "\n",
    "def calculate_loss(pred, actual):\n",
    "    loss = 1/n * sum((actual - pred) **2)\n",
    "    return loss\n",
    "\n",
    "i = 0\n",
    "#specify the epoch number\n",
    "epochs = 5000\n",
    "\n",
    "while i < epochs:\n",
    "    pred_result, sigmoid_derivatives_z20, sigmoid_derivatives_a20 = ([], [], [])\n",
    "    a11_list, a12_list, a13_list, w20_list, w21_list, w22_list, w23_list, x1_list, x2_list = ([], [], [], [], [], [], [], [], [])\n",
    "    \n",
    "    for x1, x2 in train_x:\n",
    "        #input layer\n",
    "        inputs = np.array([[x0],[x1],[x2]])\n",
    "        \n",
    "        out1 = np.dot(weights_1, inputs)\n",
    "\n",
    "        z11 = out1[0,0]\n",
    "        z12 = out1[1,0]\n",
    "        z13 = out1[2,0]\n",
    "\n",
    "        # activation relu\n",
    "        a11 = np.maximum(0, z11)\n",
    "        a12 = np.maximum(0, z12)\n",
    "        a13 = np.maximum(0, z13)\n",
    "\n",
    "        #hidden layer 1st\n",
    "        hidden_1 = np.array([a10, a11, a12, a13])\n",
    "        \n",
    "        #weights 2nd layer\n",
    "        weights_2 = np.array([[w20],[w21],[w22],[w23]])\n",
    "\n",
    "        out2 = np.dot(hidden_1, weights_2)\n",
    "        z20 = out2[0]\n",
    "        sigmoid_derivatives_z20.append(sigmoid_derivative(z20))\n",
    "        a11_list.append(a11)\n",
    "        a12_list.append(a12)\n",
    "        a13_list.append(a13)\n",
    "        w20_list.append(w20)\n",
    "        w21_list.append(w21)\n",
    "        w22_list.append(w22)\n",
    "        w23_list.append(w23)\n",
    "        x1_list.append(x1)\n",
    "        x2_list.append(x2)\n",
    "        \n",
    "        #activation sigmoid\n",
    "        a20 = sigmoid(z20)\n",
    "\n",
    "        pred_result.append(a20)\n",
    "\n",
    "    pred_result = np.array(pred_result)\n",
    "    \n",
    "    #calculating loss\n",
    "    loss = calculate_loss(pred_result, train_y)\n",
    "    \n",
    "    #converting them into array\n",
    "    a11_list, a12_list, a13_list = (np.array(a11_list), np.array(a12_list), np.array(a13_list))\n",
    "    w20_list, w21_list, w22_list = (np.array(w20_list), np.array(w21_list), np.array(w22_list)) \n",
    "    w23_list, x1_list, x2_list = (np.array(w23_list), np.array(x1_list), np.array(x2_list))\n",
    "    \n",
    "    common_calc = (train_y - pred_result) * sigmoid_derivatives_z20\n",
    "    #updating weights\n",
    "    w20 = w20 - l * ((-2/n) * sum(common_calc))\n",
    "    w21 = w21 - l * ((-2/n) * sum(common_calc * a11_list))\n",
    "    w22 = w22 - l * ((-2/n) * sum(common_calc * a12_list))\n",
    "    w23 = w23 - l * ((-2/n) * sum(common_calc * a13_list))\n",
    "    \n",
    "    #If after applying relu we got 0 then no need to update\n",
    "    if a11:\n",
    "        w10 = w10 - l * ((-2/n) * sum(common_calc * w21_list))\n",
    "        w11 = w11 - l * ((-2/n) * sum(common_calc * w21_list * x1_list))\n",
    "        w12 = w12 - l * ((-2/n) * sum(common_calc * w21_list * x2_list))\n",
    "    if a12:\n",
    "        w13 = w13 - l * ((-2/n) * sum(common_calc * w22_list))\n",
    "        w14 = w14 - l * ((-2/n) * sum(common_calc * w22_list * x1_list))\n",
    "        w15 = w15 - l * ((-2/n) * sum(common_calc * w22_list * x2_list))\n",
    "    if a13:\n",
    "        w16 = w16 - l * ((-2/n) * sum(common_calc * w23_list))\n",
    "        w17 = w17 - l * ((-2/n) * sum(common_calc * w23_list * x1_list))\n",
    "        w18 = w18 - l * ((-2/n) * sum(common_calc * w23_list * x2_list))\n",
    "        \n",
    "    i += 1\n",
    "    "
   ]
  },
  {
   "cell_type": "code",
   "execution_count": 7,
   "metadata": {},
   "outputs": [
    {
     "name": "stdout",
     "output_type": "stream",
     "text": [
      "loss:  0.0914538244813662\n"
     ]
    }
   ],
   "source": [
    "print('loss: ', loss)"
   ]
  },
  {
   "cell_type": "code",
   "execution_count": 8,
   "metadata": {},
   "outputs": [
    {
     "name": "stdout",
     "output_type": "stream",
     "text": [
      "[[185  14]\n",
      " [ 20 101]]\n",
      "\n",
      "\n",
      "0.89375\n"
     ]
    }
   ],
   "source": [
    "#calculating accuracy of our algorithm on train data\n",
    "pred_result_train = []\n",
    "\n",
    "for i in pred_result:\n",
    "    if i < 0.5:\n",
    "        pred_result_train.append(0)\n",
    "    else:\n",
    "        pred_result_train.append(1)\n",
    "\n",
    "mat = confusion_matrix(train_y, pred_result_train)\n",
    "print(mat)\n",
    "\n",
    "print('\\n')\n",
    "score = accuracy_score(train_y, pred_result_train)\n",
    "print(score)"
   ]
  },
  {
   "cell_type": "code",
   "execution_count": 9,
   "metadata": {},
   "outputs": [],
   "source": [
    "#predicting on the test data with our algorithm\n",
    "\n",
    "pred_result_test = []\n",
    "\n",
    "for x1, x2 in test_x:    \n",
    "    inputs = np.array([[x0],\n",
    "                  [x1],\n",
    "                  [x2]])\n",
    "    out1 = np.dot(weights_1, inputs)\n",
    "\n",
    "    z11 = out1[0,0]\n",
    "    z12 = out1[1,0]\n",
    "    z13 = out1[2,0]\n",
    "\n",
    "    # activation relu\n",
    "    a11 = np.maximum(0, z11)\n",
    "    a12 = np.maximum(0, z12)\n",
    "    a13 = np.maximum(0, z13)\n",
    "\n",
    "    hidden_1 = np.array([a10, a11, a12, a13])\n",
    "\n",
    "    weights_2 = np.array([[w20],\n",
    "                   [w21],\n",
    "                   [w22],\n",
    "                   [w23]])\n",
    "\n",
    "    out2 = np.dot(hidden_1, weights_2)\n",
    "    z20 = out2[0]\n",
    "    \n",
    "    #activation sigmoid\n",
    "    a20 = sigmoid(z20)\n",
    "    \n",
    "    if a20<0.5:\n",
    "        pred_result_test.append(0)\n",
    "    else:\n",
    "        pred_result_test.append(1)  "
   ]
  },
  {
   "cell_type": "code",
   "execution_count": 10,
   "metadata": {},
   "outputs": [
    {
     "name": "stdout",
     "output_type": "stream",
     "text": [
      "[[55  3]\n",
      " [ 1 21]]\n",
      "\n",
      "\n",
      "0.95\n"
     ]
    }
   ],
   "source": [
    "#calculating accuracy of our model on test data\n",
    "mat = confusion_matrix(test_y, pred_result_test)\n",
    "print(mat)\n",
    "\n",
    "print('\\n')\n",
    "score = accuracy_score(test_y, pred_result_test)\n",
    "print(score)"
   ]
  }
 ],
 "metadata": {
  "kernelspec": {
   "display_name": "Python 3",
   "language": "python",
   "name": "python3"
  },
  "language_info": {
   "codemirror_mode": {
    "name": "ipython",
    "version": 3
   },
   "file_extension": ".py",
   "mimetype": "text/x-python",
   "name": "python",
   "nbconvert_exporter": "python",
   "pygments_lexer": "ipython3",
   "version": "3.8.5"
  }
 },
 "nbformat": 4,
 "nbformat_minor": 4
}
